{
 "cells": [
  {
   "cell_type": "markdown",
   "id": "c396b239",
   "metadata": {},
   "source": [
    "# Single Chromosome Simulation"
   ]
  },
  {
   "cell_type": "code",
   "execution_count": 1,
   "id": "f8fbeb0b-7498-4a2c-8e9d-59d2afe3310c",
   "metadata": {},
   "outputs": [],
   "source": [
    "from OpenMiChroM.ChromDynamics import MiChroM\n",
    "from OpenMiChroM.CndbTools import cndbTools\n",
    "\n",
    "import matplotlib.pyplot as plt\n",
    "import matplotlib as mpl\n",
    "import numpy as np\n",
    "\n",
    "from openmm.app import *"
   ]
  },
  {
   "cell_type": "code",
   "execution_count": 2,
   "id": "3472f086-edde-4449-a3ba-0e4a3a043662",
   "metadata": {},
   "outputs": [],
   "source": [
    "block = 3*10**2\n",
    "n_blocks = 2*10**3"
   ]
  },
  {
   "cell_type": "markdown",
   "id": "8ffc56d1",
   "metadata": {},
   "source": [
    "**{ chr 10 } simulation**  "
   ]
  },
  {
   "cell_type": "code",
   "execution_count": null,
   "id": "27470aea",
   "metadata": {},
   "outputs": [],
   "source": [
    "sim = MiChroM(temperature=1.0, time_step=0.01)\n",
    "sim.setup(platform=\"cuda\") # Double-check CUDA installation in your system \n",
    "sim.saveFolder('single_op_chr10_2000')\n",
    "Chrom10 = sim.createSpringSpiral(ChromSeq='../inputs/chr10_beads.txt', isRing=False)\n",
    "sim.loadStructure(Chrom10, center=True)\n",
    "sim.saveStructure(mode='pdb')"
   ]
  },
  {
   "cell_type": "code",
   "execution_count": null,
   "id": "1000216e",
   "metadata": {},
   "outputs": [],
   "source": [
    "sim.addFENEBonds(kfb=30.0)\n",
    "sim.addAngles(ka=2.0)\n",
    "sim.addRepulsiveSoftCore(Ecut=4.0)\n",
    "sim.addTypetoType(mu=3.22, rc = 1.78)\n",
    "sim.addIdealChromosome(mu=3.22, rc = 1.78, dinit=3, dend=500)\n",
    "sim.addFlatBottomHarmonic( kr=5*10**-3, n_rad=15.0)"
   ]
  },
  {
   "cell_type": "markdown",
   "id": "c4f9fa6f",
   "metadata": {},
   "source": [
    "**collapse simulation**  "
   ]
  },
  {
   "cell_type": "code",
   "execution_count": null,
   "id": "3b5ad379",
   "metadata": {},
   "outputs": [],
   "source": [
    "print('GENERATING INITIAL SIM STRUCTURE', '\\n---\\n')\n",
    "for _ in range(n_blocks):\n",
    "    sim.runSimBlock(block, increment=False) \n",
    "    print('1st loop', '\\n---\\n')"
   ]
  },
  {
   "cell_type": "code",
   "execution_count": null,
   "id": "185e90d6",
   "metadata": {},
   "outputs": [],
   "source": [
    "print(sim.chromRG())\n",
    "sim.saveStructure(mode='pdb')"
   ]
  },
  {
   "cell_type": "code",
   "execution_count": null,
   "id": "0e9c032b",
   "metadata": {},
   "outputs": [],
   "source": [
    "# sim.system.getForces()      # WHY GET FORCES ??\n",
    "sim.system.removeForce(5)\n",
    "sim.initStorage(filename=\"traj_chr10_2000\")"
   ]
  },
  {
   "cell_type": "code",
   "execution_count": null,
   "id": "5cd7e964",
   "metadata": {},
   "outputs": [],
   "source": [
    "pdb = PDBFile('single_op_chr10_2000/chromosome_0_block0.pdb')\n",
    "top = pdb.getTopology()\n",
    "top_file = 'single_top_2000.dcd'"
   ]
  },
  {
   "cell_type": "markdown",
   "id": "9a48e49b",
   "metadata": {},
   "source": [
    "**production simulation**  "
   ]
  },
  {
   "cell_type": "code",
   "execution_count": null,
   "id": "ed201285",
   "metadata": {},
   "outputs": [],
   "source": [
    "with open(top_file, 'wb') as f:\n",
    "    dcd = DCDFile(f, top, 0.01)\n",
    "    print('RUNNING SIMULATION', '\\n---\\n')\n",
    "    for _ in range(n_blocks):\n",
    "        sim.runSimBlock(block, increment=True) \n",
    "        sim.saveStructure()\n",
    "        sim.saveStructure(mode='pdb')\n",
    "        dcd.writeModel(sim.getPositions())\n",
    "        print('2nd loop', '\\n---\\n')"
   ]
  },
  {
   "cell_type": "code",
   "execution_count": null,
   "id": "6e90eb0c",
   "metadata": {},
   "outputs": [],
   "source": [
    "sim.storage[0].close()"
   ]
  }
 ],
 "metadata": {
  "kernelspec": {
   "display_name": "Python 3 (ipykernel)",
   "language": "python",
   "name": "python3"
  },
  "language_info": {
   "codemirror_mode": {
    "name": "ipython",
    "version": 3
   },
   "file_extension": ".py",
   "mimetype": "text/x-python",
   "name": "python",
   "nbconvert_exporter": "python",
   "pygments_lexer": "ipython3",
   "version": "3.9.0"
  }
 },
 "nbformat": 4,
 "nbformat_minor": 5
}
